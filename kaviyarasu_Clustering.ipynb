import pandas as pd
import numpy as np
import matplotlib.pyplot as plt
import seaborn as sns
from sklearn.cluster import KMeans
from sklearn.preprocessing import StandardScaler
from sklearn.metrics import davies_bouldin_score
from sklearn.decomposition import PCA
customers = pd.read_csv('C:\\Users\\kaviy\\Downloads\\Customers.csv')
transactions = pd.read_csv('C:\\Users\\kaviy\\Downloads\\Transactions.csv')
transaction_summary = transactions.groupby('CustomerID').agg(
    TotalValue=('TotalValue', 'sum'),
    TransactionCount=('TransactionID', 'count'),
    AverageTransactionValue=('TotalValue', 'mean')
).reset_index()
customer_data = pd.merge(customers, transaction_summary, on='CustomerID', how='left')
(if any)
customer_data.fillna(0, inplace=True)
numerical_features = customer_data[['TotalValue', 'TransactionCount', 'AverageTransactionValue']]
scaler = StandardScaler()
scaled_features = scaler.fit_transform(numerical_features)
db_scores = []
k_range = range(2, 11)
for k in k_range:
    kmeans = KMeans(n_clusters=k, random_state=42)
    customer_data[f'Cluster_{k}'] = kmeans.fit_predict(scaled_features)
    db_score = davies_bouldin_score(scaled_features, kmeans.labels_)
    db_scores.append(db_score)
plt.figure(figsize=(8, 6))
plt.plot(k_range, db_scores, marker='o')
plt.title('Davies-Bouldin Index for Different k Values')
plt.xlabel('Number of Clusters (k)')
plt.ylabel('DB Index')
plt.show()
optimal_k = k_range[np.argmin(db_scores)]
kmeans_optimal = KMeans(n_clusters=optimal_k, random_state=42)
customer_data['Cluster'] = kmeans_optimal.fit_predict(scaled_features)
pca = PCA(n_components=2)
pca_components = pca.fit_transform(scaled_features)
plt.figure(figsize=(8, 6))
sns.scatterplot(x=pca_components[:, 0], y=pca_components[:, 1], hue=customer_data['Cluster'], palette='viridis', s=100, edgecolor='black')
plt.title(f'Customer Segmentation with {optimal_k} Clusters')
plt.xlabel('PCA Component 1')
plt.ylabel('PCA Component 2')
plt.legend(title='Cluster')
plt.show()
customer_data.to_csv('Customer_Segmentation.csv', index=False)
print(f"Optimal number of clusters: {optimal_k}")
print(f"DB Index: {db_scores[np.argmin(db_scores)]}")
