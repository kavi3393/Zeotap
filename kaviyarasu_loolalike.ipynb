import pandas as pd
from sklearn.metrics.pairwise import cosine_similarity
from sklearn.preprocessing import StandardScaler
import numpy as np
customers = pd.read_csv('C:\\Users\\kaviy\\Downloads\\Customers.csv')
transactions = pd.read_csv('C:\\Users\\kaviy\\Downloads\\Transactions.csv')
products = pd.read_csv('C:\\Users\\kaviy\\Downloads\\Products.csv')
transactions['TransactionDate'] = pd.to_datetime(transactions['TransactionDate'], errors='coerce')
transactions = pd.merge(transactions, products[['ProductID', 'Category']], on='ProductID', how='left')
transactions = pd.merge(transactions, customers[['CustomerID', 'Region']], on='CustomerID', how='left')
transactions_agg = transactions.groupby('CustomerID').agg(
    total_spent=('TotalValue', 'sum'),
    avg_transaction_value=('TotalValue', 'mean'),
    num_transactions=('TotalValue', 'count'),
    unique_product_count=('ProductID', 'nunique')
).reset_index()
customer_profiles = pd.merge(customers, transactions_agg, on='CustomerID', how='left')
category_spending = transactions.groupby(['CustomerID', 'Category'])['TotalValue'].sum().unstack(fill_value=0)
customer_profiles = pd.merge(customer_profiles, category_spending, on='CustomerID', how='left')
numerical_features = ['total_spent', 'avg_transaction_value', 'num_transactions', 'unique_product_count'] + list(category_spending.columns)
customer_profiles[numerical_features] = customer_profiles[numerical_features].fillna(customer_profiles[numerical_features].mean())
scaler = StandardScaler()
customer_profiles[numerical_features] = scaler.fit_transform(customer_profiles[numerical_features])
similarity_matrix = cosine_similarity(customer_profiles[numerical_features])
np.fill_diagonal(similarity_matrix, 0)
lookalike_dict = {}
for i, row in customer_profiles.iterrows():
    customer_id = row['CustomerID']
    similarity_scores = similarity_matrix[i]
    top_3_similar = similarity_scores.argsort()[-3:][::-1]  # Top 3 similar customers
    top_3_ids = customer_profiles.iloc[top_3_similar]['CustomerID'].values
    top_3_scores = similarity_scores[top_3_similar]
        lookalike_dict[customer_id] = {
        'Lookalike1': top_3_ids[0], 'Score1': top_3_scores[0],
        'Lookalike2': top_3_ids[1], 'Score2': top_3_scores[1],
        'Lookalike3': top_3_ids[2], 'Score3': top_3_scores[2]
    }
lookalike_df = pd.DataFrame.from_dict(lookalike_dict, orient='index').reset_index()
lookalike_df.columns = ['CustomerID', 'Lookalike1', 'Score1', 'Lookalike2', 'Score2', 'Lookalike3', 'Score3']
lookalike_df.to_csv('Lookalike.csv', index=False)
print(lookalike_df.head())
